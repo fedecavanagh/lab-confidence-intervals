{
 "cells": [
  {
   "cell_type": "markdown",
   "metadata": {},
   "source": [
    "# Confidence Intervals"
   ]
  },
  {
   "cell_type": "code",
   "execution_count": 22,
   "metadata": {},
   "outputs": [],
   "source": [
    "# Libraries\n",
    "\n",
    "import pandas as pd\n",
    "import numpy as np\n",
    "import scipy.stats as st\n",
    "import math"
   ]
  },
  {
   "cell_type": "markdown",
   "metadata": {},
   "source": [
    "## Challenge 1\n",
    "We want to estimate the average size of the men of a country with a confidence level of 80%. Assuming that the standard deviation of the sizes in the population is 4, get the confidence interval with a sample of men selected randomly, whose heights are:\n",
    "\n",
    "````\n",
    "heights = [167, 167, 168, 168, 168, 169, 171, 172, 173, 175, 175, 175, 177, 182, 195]\n",
    "````\n",
    "\n",
    "**Hint**: function `stats.norm.interval` from `scipy` can help you get through this exercise. "
   ]
  },
  {
   "cell_type": "code",
   "execution_count": 2,
   "metadata": {},
   "outputs": [
    {
     "name": "stdout",
     "output_type": "stream",
     "text": [
      "Mean:  173.47\n",
      "Qty observations:  15\n",
      "Std of original population:  4\n",
      "Confident Interval:  (172.14308590115726, 174.79024743217607)\n"
     ]
    }
   ],
   "source": [
    "# your code here\n",
    "\n",
    "heights = [167, 167, 168, 168, 168, 169, 171, 172, 173, 175, 175, 175, 177, 182, 195]\n",
    "\n",
    "df = pd.DataFrame (heights, columns = ['Height'])\n",
    "                                       \n",
    "#what do I need?\n",
    "                                       \n",
    "#1 the mean of the sample\n",
    "mean = df['Height'].mean()\n",
    "                                       \n",
    "#2 number of observations\n",
    "n = df['Height'].count()\n",
    "                                       \n",
    "#3 std of the original population \n",
    "std = 4\n",
    "\n",
    "#4 confidence level = 80% = 0.8\n",
    "conf = 0.8\n",
    "\n",
    "print('Mean: ', round(mean,2))\n",
    "print('Qty observations: ', n)\n",
    "print('Std of original population: ', std)\n",
    "print('Confident Interval: ', st.norm.interval(conf,loc=mean,scale=std/np.sqrt(n)))"
   ]
  },
  {
   "cell_type": "markdown",
   "metadata": {},
   "source": [
    "## Challenge 2 \n",
    "In a sample of 105 shops selected randomly from an area, we note that 27 of them have had losses in this month. Get an interval for the proportion of businesses in the area with losses to a confidence level of 80% and a confidence level of 90%.\n",
    "\n",
    "**Hint**: function `stats.norm.interval` from `scipy` can help you get through this exercise. "
   ]
  },
  {
   "cell_type": "code",
   "execution_count": 9,
   "metadata": {},
   "outputs": [
    {
     "name": "stdout",
     "output_type": "stream",
     "text": [
      "Mean:  25.71\n",
      "Qty observations:  105\n",
      "Std teorical for conf level 80%:  0.4391550328268395\n",
      "Std teorical for conf level 90%:  0.4391550328268395\n",
      "Confident Interval for 80%:  (25.659010936456127, 25.769560492115296)\n",
      "Confident Interval for 90%:  (25.643158395569433, 25.78541303300199)\n"
     ]
    }
   ],
   "source": [
    "# your code here\n",
    "\n",
    "list = [1 for i in range(27)]\n",
    "list2 = [0 for i in range(78)]\n",
    "list = list + list2\n",
    "df = pd.DataFrame (list, columns = ['Win/Loss'])\n",
    "\n",
    "#mean of the sample\n",
    "mean = (27/105)*100\n",
    "\n",
    "#number of observations\n",
    "n = 105\n",
    "\n",
    "#confidence level = 80% = 0.8\n",
    "conf1 = 0.8\n",
    "\n",
    "#confidence level = 90% = 0.9\n",
    "conf2 = 0.9\n",
    "\n",
    "#std deviation teorical\n",
    "std = df['Win/Loss'].std(ddof=1)\n",
    "\n",
    "print('Mean: ', round(mean,2))\n",
    "print('Qty observations: ', n)\n",
    "print('Std teorical for conf level 80%: ', std)\n",
    "print('Std teorical for conf level 90%: ', std)\n",
    "print('Confident Interval for 80%: ', st.t.interval(conf1,n-1,loc=mean,scale=std/np.sqrt(n)))\n",
    "print('Confident Interval for 90%: ', st.t.interval(conf2,n-1,loc=mean,scale=std/np.sqrt(n)))"
   ]
  },
  {
   "cell_type": "markdown",
   "metadata": {},
   "source": [
    "## Bonus Challenge\n",
    "The error level or sampling error for the first challenge is given by the following expression:\n",
    "$$Error = z_{\\frac{\\alpha}{2}}\\frac{\\sigma}{\\sqrt n}$$\n",
    "Where z represents the value for N(0,1)\n",
    "\n",
    "\n",
    "Suppose that with the previous data of challenge 1, and with a confidence level of\n",
    "99% (that is, almost certainly) we want to estimate the average population size, so that the error level committed is not greater than half a centimeter.\n",
    "\n",
    "#### 1.- Determine what size the selected sample of men should be."
   ]
  },
  {
   "cell_type": "code",
   "execution_count": 33,
   "metadata": {},
   "outputs": [
    {
     "name": "stdout",
     "output_type": "stream",
     "text": [
      "Average population size:  426.01\n"
     ]
    }
   ],
   "source": [
    "# your code here\n",
    "\n",
    "heights = [167, 167, 168, 168, 168, 169, 171, 172, 173, 175, 175, 175, 177, 182, 195]\n",
    "df = pd.DataFrame (heights, columns = ['Height'])\n",
    "\n",
    "# Sampling error = z-score (Standard Deviations) × [standard deviation of population / (square root of sample size)]\n",
    "# 0.5 = 2.58 x (4/ (square root of sample size))\n",
    "# sample size = (2.58 x 4 / 0.5)**2\n",
    " \n",
    "std = 4  # std of the original population \n",
    "conf = 2.58 # confidence level = 99%, applies 2,58 std deviations\n",
    "error = 0.5 # Sampling error = 0.5cm\n",
    "\n",
    "print(\"Average population size: \", round((conf*std/error)**2,2))\n"
   ]
  },
  {
   "cell_type": "markdown",
   "metadata": {},
   "source": [
    "#### 2.- For the second challenge, we have the following error:\n",
    "$$ Error = z_{\\frac{\\alpha}{2}}\\sqrt{\\frac{p\\times q}{n}} $$\n",
    "#### Determine the sample size required to not exceed an error of 1% with a confidence of 80%."
   ]
  },
  {
   "cell_type": "code",
   "execution_count": null,
   "metadata": {},
   "outputs": [],
   "source": [
    "# your code here"
   ]
  },
  {
   "cell_type": "markdown",
   "metadata": {},
   "source": [
    "## Bonus Challenge\n",
    "\n",
    "Let's consider the following problem:\n",
    "\n",
    "Build a confidence interval of 94% for the real difference between the durations of two brands of spotlights, if a sample of 40 spotlights taken randomly from the first mark gave an average duration of 418 hours, and a sample of 50 bulbs of another brand gave a duration average of 402 hours. The standard deviations of the two\n",
    "populations are 26 hours and 22 hours, respectively.\n",
    "\n",
    "Sometimes, we will be interested in the difference of two different groups of random variables. We can also build a confidence interval for that! We have some different cases regarding the variance but for this specific case (the variance are different and known), we have that:\n",
    "\n",
    "$$\\overline{X} - \\overline{Y}  \\sim N(\\mu_{X} - \\mu_{Y} , \\sqrt{\\frac{\\sigma_{X}^2}{n_X}+\\frac{\\sigma_{Y}^2}{n_Y}})$$\n",
    "\n",
    "Solve the problem with this information."
   ]
  },
  {
   "cell_type": "code",
   "execution_count": 30,
   "metadata": {},
   "outputs": [
    {
     "name": "stdout",
     "output_type": "stream",
     "text": [
      "Real confidence interval is:  13.46 - 16.62\n"
     ]
    }
   ],
   "source": [
    "# your code here\n",
    "\n",
    "conf = 0.94\n",
    "\n",
    "n1 = 40\n",
    "mean1 = 418\n",
    "std1 = 26\n",
    "\n",
    "n2 = 50\n",
    "mean2 = 402\n",
    "std2 = 22\n",
    "\n",
    "real_mean = conf*(mean1 - mean2)\n",
    "interval = conf*(math.sqrt(((std1**2)/mean1)+((std2**2)/mean2)))\n",
    "\n",
    "print(\"Real confidence interval is: \", round(real_mean-interval,2), '-', round(real_mean+interval,2))\n"
   ]
  }
 ],
 "metadata": {
  "kernelspec": {
   "display_name": "Python 3 (ipykernel)",
   "language": "python",
   "name": "python3"
  },
  "language_info": {
   "codemirror_mode": {
    "name": "ipython",
    "version": 3
   },
   "file_extension": ".py",
   "mimetype": "text/x-python",
   "name": "python",
   "nbconvert_exporter": "python",
   "pygments_lexer": "ipython3",
   "version": "3.9.12"
  }
 },
 "nbformat": 4,
 "nbformat_minor": 2
}
